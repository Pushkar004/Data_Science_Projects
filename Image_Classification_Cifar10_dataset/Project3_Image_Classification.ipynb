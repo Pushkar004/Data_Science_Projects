{
  "nbformat": 4,
  "nbformat_minor": 0,
  "metadata": {
    "colab": {
      "provenance": [],
      "authorship_tag": "ABX9TyMsdKqe9dg7CVD7VPXlQwIw",
      "include_colab_link": true
    },
    "kernelspec": {
      "name": "python3",
      "display_name": "Python 3"
    },
    "language_info": {
      "name": "python"
    }
  },
  "cells": [
    {
      "cell_type": "markdown",
      "metadata": {
        "id": "view-in-github",
        "colab_type": "text"
      },
      "source": [
        "<a href=\"https://colab.research.google.com/github/Pushkar004/Data_Science_Projects/blob/main/Image_Classification_Cifar10_dataset/Project3_Image_Classification.ipynb\" target=\"_parent\"><img src=\"https://colab.research.google.com/assets/colab-badge.svg\" alt=\"Open In Colab\"/></a>"
      ]
    },
    {
      "cell_type": "code",
      "execution_count": 140,
      "metadata": {
        "id": "wEc14a2hxa_2"
      },
      "outputs": [],
      "source": [
        "import tensorflow as tf                                         #Importing useful libraries\n",
        "from tensorflow.keras import layers, models\n",
        "import numpy as np\n",
        "import matplotlib.pyplot as plt"
      ]
    },
    {
      "cell_type": "code",
      "source": [
        "from google.colab import drive\n",
        "drive.mount('/content/drive/')"
      ],
      "metadata": {
        "id": "FDhcSQTzbNup",
        "colab": {
          "base_uri": "https://localhost:8080/"
        },
        "outputId": "bcfb71e4-6bea-4229-b5ef-3af9ceae8aa0"
      },
      "execution_count": 141,
      "outputs": [
        {
          "output_type": "stream",
          "name": "stdout",
          "text": [
            "Drive already mounted at /content/drive/; to attempt to forcibly remount, call drive.mount(\"/content/drive/\", force_remount=True).\n"
          ]
        }
      ]
    },
    {
      "cell_type": "code",
      "source": [
        "#importing Cifar10 dataset\n",
        "from tensorflow.keras.datasets import cifar10\n",
        "(x_train, y_train), (x_test, y_test) = cifar10.load_data()"
      ],
      "metadata": {
        "id": "q8DzPrNezh_K"
      },
      "execution_count": 142,
      "outputs": []
    },
    {
      "cell_type": "code",
      "source": [
        "# Check the shape of training and test data\n",
        "print(f\"Training data shape: {x_train.shape}\")\n",
        "print(f\"Test data shape: {x_test.shape}\")\n",
        "print(f\"Training labels shape: {y_train.shape}\")\n",
        "print(f\"Test labels shape: {y_test.shape}\")"
      ],
      "metadata": {
        "colab": {
          "base_uri": "https://localhost:8080/"
        },
        "id": "vyjwKgD81Jqg",
        "outputId": "82a2e812-6b4e-4473-bd24-eb6b6d0e0294"
      },
      "execution_count": 143,
      "outputs": [
        {
          "output_type": "stream",
          "name": "stdout",
          "text": [
            "Training data shape: (50000, 32, 32, 3)\n",
            "Test data shape: (10000, 32, 32, 3)\n",
            "Training labels shape: (50000, 1)\n",
            "Test labels shape: (10000, 1)\n"
          ]
        }
      ]
    },
    {
      "cell_type": "markdown",
      "source": [
        "Observation:\n",
        "\n",
        "1.Training data consist of 50,000 images while test data consists of 10,000 images each of size 32x32 with 3 color channels.\n",
        "\n",
        "2.Training amnd test labels comnsist of 50,000 and 10,000 labels respectively corresponding to each image"
      ],
      "metadata": {
        "id": "flMSop0x2SMV"
      }
    },
    {
      "cell_type": "code",
      "source": [
        "x_train"
      ],
      "metadata": {
        "colab": {
          "base_uri": "https://localhost:8080/"
        },
        "id": "T3al_MHA3JuA",
        "outputId": "3bf4da67-4e6a-4e9f-a064-9d6696801dc7"
      },
      "execution_count": 144,
      "outputs": [
        {
          "output_type": "execute_result",
          "data": {
            "text/plain": [
              "array([[[[ 59,  62,  63],\n",
              "         [ 43,  46,  45],\n",
              "         [ 50,  48,  43],\n",
              "         ...,\n",
              "         [158, 132, 108],\n",
              "         [152, 125, 102],\n",
              "         [148, 124, 103]],\n",
              "\n",
              "        [[ 16,  20,  20],\n",
              "         [  0,   0,   0],\n",
              "         [ 18,   8,   0],\n",
              "         ...,\n",
              "         [123,  88,  55],\n",
              "         [119,  83,  50],\n",
              "         [122,  87,  57]],\n",
              "\n",
              "        [[ 25,  24,  21],\n",
              "         [ 16,   7,   0],\n",
              "         [ 49,  27,   8],\n",
              "         ...,\n",
              "         [118,  84,  50],\n",
              "         [120,  84,  50],\n",
              "         [109,  73,  42]],\n",
              "\n",
              "        ...,\n",
              "\n",
              "        [[208, 170,  96],\n",
              "         [201, 153,  34],\n",
              "         [198, 161,  26],\n",
              "         ...,\n",
              "         [160, 133,  70],\n",
              "         [ 56,  31,   7],\n",
              "         [ 53,  34,  20]],\n",
              "\n",
              "        [[180, 139,  96],\n",
              "         [173, 123,  42],\n",
              "         [186, 144,  30],\n",
              "         ...,\n",
              "         [184, 148,  94],\n",
              "         [ 97,  62,  34],\n",
              "         [ 83,  53,  34]],\n",
              "\n",
              "        [[177, 144, 116],\n",
              "         [168, 129,  94],\n",
              "         [179, 142,  87],\n",
              "         ...,\n",
              "         [216, 184, 140],\n",
              "         [151, 118,  84],\n",
              "         [123,  92,  72]]],\n",
              "\n",
              "\n",
              "       [[[154, 177, 187],\n",
              "         [126, 137, 136],\n",
              "         [105, 104,  95],\n",
              "         ...,\n",
              "         [ 91,  95,  71],\n",
              "         [ 87,  90,  71],\n",
              "         [ 79,  81,  70]],\n",
              "\n",
              "        [[140, 160, 169],\n",
              "         [145, 153, 154],\n",
              "         [125, 125, 118],\n",
              "         ...,\n",
              "         [ 96,  99,  78],\n",
              "         [ 77,  80,  62],\n",
              "         [ 71,  73,  61]],\n",
              "\n",
              "        [[140, 155, 164],\n",
              "         [139, 146, 149],\n",
              "         [115, 115, 112],\n",
              "         ...,\n",
              "         [ 79,  82,  64],\n",
              "         [ 68,  70,  55],\n",
              "         [ 67,  69,  55]],\n",
              "\n",
              "        ...,\n",
              "\n",
              "        [[175, 167, 166],\n",
              "         [156, 154, 160],\n",
              "         [154, 160, 170],\n",
              "         ...,\n",
              "         [ 42,  34,  36],\n",
              "         [ 61,  53,  57],\n",
              "         [ 93,  83,  91]],\n",
              "\n",
              "        [[165, 154, 128],\n",
              "         [156, 152, 130],\n",
              "         [159, 161, 142],\n",
              "         ...,\n",
              "         [103,  93,  96],\n",
              "         [123, 114, 120],\n",
              "         [131, 121, 131]],\n",
              "\n",
              "        [[163, 148, 120],\n",
              "         [158, 148, 122],\n",
              "         [163, 156, 133],\n",
              "         ...,\n",
              "         [143, 133, 139],\n",
              "         [143, 134, 142],\n",
              "         [143, 133, 144]]],\n",
              "\n",
              "\n",
              "       [[[255, 255, 255],\n",
              "         [253, 253, 253],\n",
              "         [253, 253, 253],\n",
              "         ...,\n",
              "         [253, 253, 253],\n",
              "         [253, 253, 253],\n",
              "         [253, 253, 253]],\n",
              "\n",
              "        [[255, 255, 255],\n",
              "         [255, 255, 255],\n",
              "         [255, 255, 255],\n",
              "         ...,\n",
              "         [255, 255, 255],\n",
              "         [255, 255, 255],\n",
              "         [255, 255, 255]],\n",
              "\n",
              "        [[255, 255, 255],\n",
              "         [254, 254, 254],\n",
              "         [254, 254, 254],\n",
              "         ...,\n",
              "         [254, 254, 254],\n",
              "         [254, 254, 254],\n",
              "         [254, 254, 254]],\n",
              "\n",
              "        ...,\n",
              "\n",
              "        [[113, 120, 112],\n",
              "         [111, 118, 111],\n",
              "         [105, 112, 106],\n",
              "         ...,\n",
              "         [ 72,  81,  80],\n",
              "         [ 72,  80,  79],\n",
              "         [ 72,  80,  79]],\n",
              "\n",
              "        [[111, 118, 110],\n",
              "         [104, 111, 104],\n",
              "         [ 99, 106,  98],\n",
              "         ...,\n",
              "         [ 68,  75,  73],\n",
              "         [ 70,  76,  75],\n",
              "         [ 78,  84,  82]],\n",
              "\n",
              "        [[106, 113, 105],\n",
              "         [ 99, 106,  98],\n",
              "         [ 95, 102,  94],\n",
              "         ...,\n",
              "         [ 78,  85,  83],\n",
              "         [ 79,  85,  83],\n",
              "         [ 80,  86,  84]]],\n",
              "\n",
              "\n",
              "       ...,\n",
              "\n",
              "\n",
              "       [[[ 35, 178, 235],\n",
              "         [ 40, 176, 239],\n",
              "         [ 42, 176, 241],\n",
              "         ...,\n",
              "         [ 99, 177, 219],\n",
              "         [ 79, 147, 197],\n",
              "         [ 89, 148, 189]],\n",
              "\n",
              "        [[ 57, 182, 234],\n",
              "         [ 44, 184, 250],\n",
              "         [ 50, 183, 240],\n",
              "         ...,\n",
              "         [156, 182, 200],\n",
              "         [141, 177, 206],\n",
              "         [116, 149, 175]],\n",
              "\n",
              "        [[ 98, 197, 237],\n",
              "         [ 64, 189, 252],\n",
              "         [ 69, 192, 245],\n",
              "         ...,\n",
              "         [188, 195, 206],\n",
              "         [119, 135, 147],\n",
              "         [ 61,  79,  90]],\n",
              "\n",
              "        ...,\n",
              "\n",
              "        [[ 73,  79,  77],\n",
              "         [ 53,  63,  68],\n",
              "         [ 54,  68,  80],\n",
              "         ...,\n",
              "         [ 17,  40,  64],\n",
              "         [ 21,  36,  51],\n",
              "         [ 33,  48,  49]],\n",
              "\n",
              "        [[ 61,  68,  75],\n",
              "         [ 55,  70,  86],\n",
              "         [ 57,  79, 103],\n",
              "         ...,\n",
              "         [ 24,  48,  72],\n",
              "         [ 17,  35,  53],\n",
              "         [  7,  23,  32]],\n",
              "\n",
              "        [[ 44,  56,  73],\n",
              "         [ 46,  66,  88],\n",
              "         [ 49,  77, 105],\n",
              "         ...,\n",
              "         [ 27,  52,  77],\n",
              "         [ 21,  43,  66],\n",
              "         [ 12,  31,  50]]],\n",
              "\n",
              "\n",
              "       [[[189, 211, 240],\n",
              "         [186, 208, 236],\n",
              "         [185, 207, 235],\n",
              "         ...,\n",
              "         [175, 195, 224],\n",
              "         [172, 194, 222],\n",
              "         [169, 194, 220]],\n",
              "\n",
              "        [[194, 210, 239],\n",
              "         [191, 207, 236],\n",
              "         [190, 206, 235],\n",
              "         ...,\n",
              "         [173, 192, 220],\n",
              "         [171, 191, 218],\n",
              "         [167, 190, 216]],\n",
              "\n",
              "        [[208, 219, 244],\n",
              "         [205, 216, 240],\n",
              "         [204, 215, 239],\n",
              "         ...,\n",
              "         [175, 191, 217],\n",
              "         [172, 190, 216],\n",
              "         [169, 191, 215]],\n",
              "\n",
              "        ...,\n",
              "\n",
              "        [[207, 199, 181],\n",
              "         [203, 195, 175],\n",
              "         [203, 196, 173],\n",
              "         ...,\n",
              "         [135, 132, 127],\n",
              "         [162, 158, 150],\n",
              "         [168, 163, 151]],\n",
              "\n",
              "        [[198, 190, 170],\n",
              "         [189, 181, 159],\n",
              "         [180, 172, 147],\n",
              "         ...,\n",
              "         [178, 171, 160],\n",
              "         [175, 169, 156],\n",
              "         [175, 169, 154]],\n",
              "\n",
              "        [[198, 189, 173],\n",
              "         [189, 181, 162],\n",
              "         [178, 170, 149],\n",
              "         ...,\n",
              "         [195, 184, 169],\n",
              "         [196, 189, 171],\n",
              "         [195, 190, 171]]],\n",
              "\n",
              "\n",
              "       [[[229, 229, 239],\n",
              "         [236, 237, 247],\n",
              "         [234, 236, 247],\n",
              "         ...,\n",
              "         [217, 219, 233],\n",
              "         [221, 223, 234],\n",
              "         [222, 223, 233]],\n",
              "\n",
              "        [[222, 221, 229],\n",
              "         [239, 239, 249],\n",
              "         [233, 234, 246],\n",
              "         ...,\n",
              "         [223, 223, 236],\n",
              "         [227, 228, 238],\n",
              "         [210, 211, 220]],\n",
              "\n",
              "        [[213, 206, 211],\n",
              "         [234, 232, 239],\n",
              "         [231, 233, 244],\n",
              "         ...,\n",
              "         [220, 220, 232],\n",
              "         [220, 219, 232],\n",
              "         [202, 203, 215]],\n",
              "\n",
              "        ...,\n",
              "\n",
              "        [[150, 143, 135],\n",
              "         [140, 135, 127],\n",
              "         [132, 127, 120],\n",
              "         ...,\n",
              "         [224, 222, 218],\n",
              "         [230, 228, 225],\n",
              "         [241, 241, 238]],\n",
              "\n",
              "        [[137, 132, 126],\n",
              "         [130, 127, 120],\n",
              "         [125, 121, 115],\n",
              "         ...,\n",
              "         [181, 180, 178],\n",
              "         [202, 201, 198],\n",
              "         [212, 211, 207]],\n",
              "\n",
              "        [[122, 119, 114],\n",
              "         [118, 116, 110],\n",
              "         [120, 116, 111],\n",
              "         ...,\n",
              "         [179, 177, 173],\n",
              "         [164, 164, 162],\n",
              "         [163, 163, 161]]]], dtype=uint8)"
            ]
          },
          "metadata": {},
          "execution_count": 144
        }
      ]
    },
    {
      "cell_type": "code",
      "source": [
        "y_train"
      ],
      "metadata": {
        "colab": {
          "base_uri": "https://localhost:8080/"
        },
        "id": "eVHqm8xV3slf",
        "outputId": "b5e6983f-16cb-4e13-fc1a-8429e58213fc"
      },
      "execution_count": 145,
      "outputs": [
        {
          "output_type": "execute_result",
          "data": {
            "text/plain": [
              "array([[6],\n",
              "       [9],\n",
              "       [9],\n",
              "       ...,\n",
              "       [9],\n",
              "       [1],\n",
              "       [1]], dtype=uint8)"
            ]
          },
          "metadata": {},
          "execution_count": 145
        }
      ]
    },
    {
      "cell_type": "code",
      "source": [
        "unique, counts = np.unique(y_train, return_counts=True)                           # finding the count for each labels\n",
        "\n",
        "# Displaying the diggerent label count as a dictionary (label: count)\n",
        "label_counts = dict(zip(unique.flatten(), counts))\n",
        "print(label_counts)"
      ],
      "metadata": {
        "colab": {
          "base_uri": "https://localhost:8080/"
        },
        "id": "kkJQNU223xGv",
        "outputId": "ea0e5664-67aa-4d92-fe68-b776cca91586"
      },
      "execution_count": 146,
      "outputs": [
        {
          "output_type": "stream",
          "name": "stdout",
          "text": [
            "{0: 5000, 1: 5000, 2: 5000, 3: 5000, 4: 5000, 5: 5000, 6: 5000, 7: 5000, 8: 5000, 9: 5000}\n"
          ]
        }
      ]
    },
    {
      "cell_type": "markdown",
      "source": [
        "**Observation: All the classes of image are equal. So no need for class balancing**"
      ],
      "metadata": {
        "id": "nXi54mIS5ZFs"
      }
    },
    {
      "cell_type": "code",
      "source": [
        "y_train=y_train.reshape(-1,)\n",
        "y_test=y_test.reshape(-1,)"
      ],
      "metadata": {
        "id": "gEaEnxBMBltq"
      },
      "execution_count": 147,
      "outputs": []
    },
    {
      "cell_type": "code",
      "source": [
        "class_names = ['airplane', 'automobile', 'bird', 'cat', 'deer', 'dog', 'frog', 'horse', 'ship', 'truck']  #class_name list with index respective to numbers given as labels"
      ],
      "metadata": {
        "id": "HWGozo3EBrIv"
      },
      "execution_count": 148,
      "outputs": []
    },
    {
      "cell_type": "code",
      "source": [
        "# Visualize 9 images from the training set\n",
        "plt.figure(figsize=(4,4))\n",
        "for i in range(9):\n",
        "    plt.subplot(3, 3, i+1) #subplot() function creates subplot insidelarger figure, and parameters (3, 3, i+1) mean 3 rows, 3 columns, and i+1th position(index starts at 1, not 0).\n",
        "    plt.imshow(x_train[i]) # imshow() function is used to display an image from an array of pixel values.\n",
        "    plt.title(f\"{class_names[y_train[i]]}\")\n",
        "    plt.axis('off')\n",
        "    plt.subplots_adjust(hspace=1)\n",
        "plt.show()"
      ],
      "metadata": {
        "colab": {
          "base_uri": "https://localhost:8080/",
          "height": 367
        },
        "id": "taCYc-bQ34TG",
        "outputId": "6bbf05af-3d09-48d3-8d39-50c65fc154cd"
      },
      "execution_count": 149,
      "outputs": [
        {
          "output_type": "display_data",
          "data": {
            "text/plain": [
              "<Figure size 400x400 with 9 Axes>"
            ],
            "image/png": "[encoded data removed]"
          },
          "metadata": {}
        }
      ]
    },
    {
      "cell_type": "code",
      "source": [
        "# Checking if any images have incorrect dimensions\n",
        "incorrect_dimensions = [i for i, img in enumerate(x_train) if img.shape != (32, 32, 3)]\n",
        "print(f\"Number of images with incorrect dimensions: {len(incorrect_dimensions)}\")"
      ],
      "metadata": {
        "colab": {
          "base_uri": "https://localhost:8080/"
        },
        "id": "wh2Eb68dMlUM",
        "outputId": "ff3ee4de-81c8-4858-d3ec-22e08fe5e692"
      },
      "execution_count": 150,
      "outputs": [
        {
          "output_type": "stream",
          "name": "stdout",
          "text": [
            "Number of images with incorrect dimensions: 0\n"
          ]
        }
      ]
    },
    {
      "cell_type": "code",
      "source": [
        "# Checking for out-of-range pixel values\n",
        "pixel_min = x_train.min()\n",
        "pixel_max = x_train.max()\n",
        "print(f\"Pixel value range: {pixel_min} to {pixel_max}\")"
      ],
      "metadata": {
        "colab": {
          "base_uri": "https://localhost:8080/"
        },
        "id": "VqX76ZjMMld_",
        "outputId": "77962f29-2d06-4fa3-81a4-6275e758359d"
      },
      "execution_count": 151,
      "outputs": [
        {
          "output_type": "stream",
          "name": "stdout",
          "text": [
            "Pixel value range: 0 to 255\n"
          ]
        }
      ]
    },
    {
      "cell_type": "markdown",
      "source": [
        "Observation: All the images are in range 0 to 255 pixel value with same dimenion of (32,32,3)"
      ],
      "metadata": {
        "id": "V-RffOVSNN1Z"
      }
    },
    {
      "cell_type": "code",
      "source": [
        "# Normalizing the pixel values\n",
        "x_train = x_train.astype('float32') / 255.0\n",
        "x_test = x_test.astype('float32') / 255.0"
      ],
      "metadata": {
        "id": "5DiX4P7cO3wb"
      },
      "execution_count": 152,
      "outputs": []
    },
    {
      "cell_type": "markdown",
      "source": [
        "# Using CNN"
      ],
      "metadata": {
        "id": "ID9s9Wp8DFRw"
      }
    },
    {
      "cell_type": "code",
      "source": [
        "# Initializing the CNN model\n",
        "model = models.Sequential()\n",
        "\n",
        "# Adding Convolutional layer\n",
        "model.add(layers.Conv2D(32, (3, 3), activation='relu', input_shape=(32, 32, 3)))\n",
        "model.add(layers.MaxPooling2D((2, 2)))\n",
        "\n",
        "# Adding 2nd Convolutional layer\n",
        "model.add(layers.Conv2D(64, (3, 3), activation='relu'))\n",
        "model.add(layers.MaxPooling2D((2, 2)))\n",
        "\n",
        "# Adding 3rd Convolutional layer\n",
        "model.add(layers.Conv2D(64, (3, 3), activation='relu'))\n",
        "\n",
        "# Flattening the output from the convolutional layers\n",
        "model.add(layers.Flatten())\n",
        "\n",
        "# Adding Fully connected (Dense) layer\n",
        "model.add(layers.Dense(64, activation='relu'))\n",
        "\n",
        "# Adding Output layer (10 classes for CIFAR-10)\n",
        "model.add(layers.Dense(10))"
      ],
      "metadata": {
        "id": "uicbgr-ADIbU",
        "colab": {
          "base_uri": "https://localhost:8080/"
        },
        "outputId": "5bbea1f2-0691-462c-f64d-ddf19d034d97"
      },
      "execution_count": 153,
      "outputs": [
        {
          "output_type": "stream",
          "name": "stderr",
          "text": [
            "/usr/local/lib/python3.10/dist-packages/keras/src/layers/convolutional/base_conv.py:107: UserWarning: Do not pass an `input_shape`/`input_dim` argument to a layer. When using Sequential models, prefer using an `Input(shape)` object as the first layer in the model instead.\n",
            "  super().__init__(activity_regularizer=activity_regularizer, **kwargs)\n"
          ]
        }
      ]
    },
    {
      "cell_type": "code",
      "source": [
        "#Compiling the model\n",
        "\n",
        "model.compile(optimizer='adam',loss=tf.keras.losses.SparseCategoricalCrossentropy(from_logits=True),metrics=['accuracy'])"
      ],
      "metadata": {
        "id": "_5P31qCRD1n7"
      },
      "execution_count": 154,
      "outputs": []
    },
    {
      "cell_type": "code",
      "source": [],
      "metadata": {
        "id": "QlpE6t1RwPNT"
      },
      "execution_count": 154,
      "outputs": []
    },
    {
      "cell_type": "code",
      "source": [
        "history = model.fit(x_train, y_train, epochs=10, validation_data=(x_test, y_test))"
      ],
      "metadata": {
        "id": "l0ukTwpjwP_Y",
        "colab": {
          "base_uri": "https://localhost:8080/"
        },
        "outputId": "615ee875-d4de-42c6-f534-5eac48665fc7"
      },
      "execution_count": 155,
      "outputs": [
        {
          "output_type": "stream",
          "name": "stdout",
          "text": [
            "Epoch 1/10\n",
            "\u001b[1m1563/1563\u001b[0m \u001b[32m━━━━━━━━━━━━━━━━━━━━\u001b[0m\u001b[37m\u001b[0m \u001b[1m73s\u001b[0m 46ms/step - accuracy: 0.3381 - loss: 1.7792 - val_accuracy: 0.5228 - val_loss: 1.3390\n",
            "Epoch 2/10\n",
            "\u001b[1m1563/1563\u001b[0m \u001b[32m━━━━━━━━━━━━━━━━━━━━\u001b[0m\u001b[37m\u001b[0m \u001b[1m79s\u001b[0m 44ms/step - accuracy: 0.5524 - loss: 1.2512 - val_accuracy: 0.6083 - val_loss: 1.1012\n",
            "Epoch 3/10\n",
            "\u001b[1m1563/1563\u001b[0m \u001b[32m━━━━━━━━━━━━━━━━━━━━\u001b[0m\u001b[37m\u001b[0m \u001b[1m71s\u001b[0m 45ms/step - accuracy: 0.6228 - loss: 1.0748 - val_accuracy: 0.6315 - val_loss: 1.0505\n",
            "Epoch 4/10\n",
            "\u001b[1m1563/1563\u001b[0m \u001b[32m━━━━━━━━━━━━━━━━━━━━\u001b[0m\u001b[37m\u001b[0m \u001b[1m69s\u001b[0m 44ms/step - accuracy: 0.6557 - loss: 0.9706 - val_accuracy: 0.6538 - val_loss: 0.9815\n",
            "Epoch 5/10\n",
            "\u001b[1m1563/1563\u001b[0m \u001b[32m━━━━━━━━━━━━━━━━━━━━\u001b[0m\u001b[37m\u001b[0m \u001b[1m81s\u001b[0m 44ms/step - accuracy: 0.6851 - loss: 0.8976 - val_accuracy: 0.6551 - val_loss: 0.9724\n",
            "Epoch 6/10\n",
            "\u001b[1m1563/1563\u001b[0m \u001b[32m━━━━━━━━━━━━━━━━━━━━\u001b[0m\u001b[37m\u001b[0m \u001b[1m70s\u001b[0m 45ms/step - accuracy: 0.7081 - loss: 0.8319 - val_accuracy: 0.6888 - val_loss: 0.8858\n",
            "Epoch 7/10\n",
            "\u001b[1m1563/1563\u001b[0m \u001b[32m━━━━━━━━━━━━━━━━━━━━\u001b[0m\u001b[37m\u001b[0m \u001b[1m80s\u001b[0m 44ms/step - accuracy: 0.7253 - loss: 0.7810 - val_accuracy: 0.6804 - val_loss: 0.9333\n",
            "Epoch 8/10\n",
            "\u001b[1m1563/1563\u001b[0m \u001b[32m━━━━━━━━━━━━━━━━━━━━\u001b[0m\u001b[37m\u001b[0m \u001b[1m84s\u001b[0m 45ms/step - accuracy: 0.7409 - loss: 0.7414 - val_accuracy: 0.6889 - val_loss: 0.8905\n",
            "Epoch 9/10\n",
            "\u001b[1m1563/1563\u001b[0m \u001b[32m━━━━━━━━━━━━━━━━━━━━\u001b[0m\u001b[37m\u001b[0m \u001b[1m68s\u001b[0m 44ms/step - accuracy: 0.7531 - loss: 0.7039 - val_accuracy: 0.6923 - val_loss: 0.9004\n",
            "Epoch 10/10\n",
            "\u001b[1m1563/1563\u001b[0m \u001b[32m━━━━━━━━━━━━━━━━━━━━\u001b[0m\u001b[37m\u001b[0m \u001b[1m70s\u001b[0m 45ms/step - accuracy: 0.7655 - loss: 0.6648 - val_accuracy: 0.6948 - val_loss: 0.8856\n"
          ]
        }
      ]
    },
    {
      "cell_type": "code",
      "source": [
        "model.save('/content/drive/MyDrive/Learn_tube/model.keras')"
      ],
      "metadata": {
        "id": "gYlC6qY4oHe4"
      },
      "execution_count": 156,
      "outputs": []
    },
    {
      "cell_type": "code",
      "source": [
        "from tensorflow.keras.models import load_model\n",
        "model_load = load_model('/content/drive/MyDrive/Learn_tube/model.keras')"
      ],
      "metadata": {
        "id": "3kvJfKBhoXwC"
      },
      "execution_count": 157,
      "outputs": []
    },
    {
      "cell_type": "code",
      "source": [
        "model_load.evaluate(x_test, y_test)"
      ],
      "metadata": {
        "id": "5R7Jf1ChHqvH",
        "colab": {
          "base_uri": "https://localhost:8080/"
        },
        "outputId": "4ab3ec42-5d77-4120-8a61-0b453a61f541"
      },
      "execution_count": 158,
      "outputs": [
        {
          "output_type": "stream",
          "name": "stdout",
          "text": [
            "\u001b[1m313/313\u001b[0m \u001b[32m━━━━━━━━━━━━━━━━━━━━\u001b[0m\u001b[37m\u001b[0m \u001b[1m4s\u001b[0m 12ms/step - accuracy: 0.6940 - loss: 0.8806\n"
          ]
        },
        {
          "output_type": "execute_result",
          "data": {
            "text/plain": [
              "[0.8856476545333862, 0.6948000192642212]"
            ]
          },
          "metadata": {},
          "execution_count": 158
        }
      ]
    },
    {
      "cell_type": "code",
      "source": [
        "y_pred= model_load.predict(x_test)"
      ],
      "metadata": {
        "id": "RQZRI4gYIrxB",
        "colab": {
          "base_uri": "https://localhost:8080/"
        },
        "outputId": "d388da48-8288-42b0-8fdf-f58d700f03fc"
      },
      "execution_count": 159,
      "outputs": [
        {
          "output_type": "stream",
          "name": "stdout",
          "text": [
            "\u001b[1m313/313\u001b[0m \u001b[32m━━━━━━━━━━━━━━━━━━━━\u001b[0m\u001b[37m\u001b[0m \u001b[1m6s\u001b[0m 18ms/step\n"
          ]
        }
      ]
    },
    {
      "cell_type": "code",
      "source": [
        "y_pred"
      ],
      "metadata": {
        "id": "Gjobc70qJRnn",
        "colab": {
          "base_uri": "https://localhost:8080/"
        },
        "outputId": "dc8c552c-5a27-48b9-b7da-97217bdccb52"
      },
      "execution_count": 160,
      "outputs": [
        {
          "output_type": "execute_result",
          "data": {
            "text/plain": [
              "array([[-1.4134272 , -2.836403  , -0.30173248, ..., -1.9511335 ,\n",
              "         0.15882991, -2.3412304 ],\n",
              "       [ 4.4305925 ,  0.7871045 , -3.0934072 , ..., -7.721582  ,\n",
              "         8.0570545 ,  0.110064  ],\n",
              "       [ 0.50266284, -1.5928035 ,  0.8938533 , ..., -0.63667357,\n",
              "         2.7930653 ,  0.5043162 ],\n",
              "       ...,\n",
              "       [-4.1220274 , -4.984651  ,  1.2782515 , ...,  2.432109  ,\n",
              "        -6.4197345 , -5.773242  ],\n",
              "       [-0.92042065,  1.8971791 , -0.8910849 , ..., -1.1993027 ,\n",
              "        -5.7534885 , -2.0793262 ],\n",
              "       [-4.770712  , -7.1791673 , -0.82858473, ...,  9.490655  ,\n",
              "        -9.043429  , -4.196681  ]], dtype=float32)"
            ]
          },
          "metadata": {},
          "execution_count": 160
        }
      ]
    },
    {
      "cell_type": "code",
      "source": [
        "y_pred_class = np.argmax(y_pred, axis=1)"
      ],
      "metadata": {
        "id": "rpEBL8osJMrM"
      },
      "execution_count": 161,
      "outputs": []
    },
    {
      "cell_type": "code",
      "source": [
        "y_pred_class"
      ],
      "metadata": {
        "id": "0QcVQbgTJVwB",
        "colab": {
          "base_uri": "https://localhost:8080/"
        },
        "outputId": "0aff3d55-131b-43f4-ce1c-85c82b660d1d"
      },
      "execution_count": 162,
      "outputs": [
        {
          "output_type": "execute_result",
          "data": {
            "text/plain": [
              "array([3, 8, 8, ..., 5, 4, 7])"
            ]
          },
          "metadata": {},
          "execution_count": 162
        }
      ]
    },
    {
      "cell_type": "code",
      "source": [
        "#Flattening the true labels (y_test is originally 2D, e.g. (10000, 1))\n",
        "y_test_flat = y_test.ravel()\n"
      ],
      "metadata": {
        "id": "Q4mSEvT1JriX"
      },
      "execution_count": 163,
      "outputs": []
    },
    {
      "cell_type": "code",
      "source": [
        "from sklearn.metrics import classification_report\n",
        "Img_Classificationreport = classification_report(y_test_flat, y_pred_class, target_names=['airplane', 'automobile', 'bird', 'cat', 'deer', 'dog', 'frog', 'horse', 'ship', 'truck'])"
      ],
      "metadata": {
        "id": "CkaIRz3OKKQJ"
      },
      "execution_count": 164,
      "outputs": []
    },
    {
      "cell_type": "code",
      "source": [
        "print(Img_Classificationreport)"
      ],
      "metadata": {
        "id": "R5lZjJZeKpI0",
        "colab": {
          "base_uri": "https://localhost:8080/"
        },
        "outputId": "66342974-0fca-44b2-f660-252bed25756e"
      },
      "execution_count": 165,
      "outputs": [
        {
          "output_type": "stream",
          "name": "stdout",
          "text": [
            "              precision    recall  f1-score   support\n",
            "\n",
            "    airplane       0.72      0.77      0.74      1000\n",
            "  automobile       0.88      0.75      0.81      1000\n",
            "        bird       0.58      0.62      0.60      1000\n",
            "         cat       0.48      0.51      0.49      1000\n",
            "        deer       0.68      0.59      0.64      1000\n",
            "         dog       0.55      0.62      0.58      1000\n",
            "        frog       0.72      0.81      0.76      1000\n",
            "       horse       0.79      0.69      0.73      1000\n",
            "        ship       0.85      0.79      0.82      1000\n",
            "       truck       0.79      0.80      0.79      1000\n",
            "\n",
            "    accuracy                           0.69     10000\n",
            "   macro avg       0.70      0.69      0.70     10000\n",
            "weighted avg       0.70      0.69      0.70     10000\n",
            "\n"
          ]
        }
      ]
    },
    {
      "cell_type": "code",
      "source": [],
      "metadata": {
        "id": "49GBbBR8KsCX"
      },
      "execution_count": null,
      "outputs": []
    },
    {
      "cell_type": "markdown",
      "source": [
        "# Using different techniques to increase CNN accuracy"
      ],
      "metadata": {
        "id": "veRWlwztLtAh"
      }
    },
    {
      "cell_type": "markdown",
      "source": [
        "**1.Data Augmentation**"
      ],
      "metadata": {
        "id": "zWiMl2A6L4Sz"
      }
    },
    {
      "cell_type": "code",
      "source": [
        "from tensorflow.keras.preprocessing.image import ImageDataGenerator\n",
        "\n",
        "# Data Augmentation\n",
        "datagen = ImageDataGenerator(\n",
        "    rotation_range=20,  # Randomly rotate images by 20 degrees\n",
        "    width_shift_range=0.2,  # Randomly shift images horizontally by 20%\n",
        "    height_shift_range=0.2,  # Randomly shift images vertically by 20%\n",
        "    horizontal_flip=True  # Randomly flip images horizontally\n",
        ")\n",
        "datagen.fit(x_train)"
      ],
      "metadata": {
        "id": "JEV3yFDILsHa"
      },
      "execution_count": null,
      "outputs": []
    },
    {
      "cell_type": "code",
      "source": [
        "# Initializing the CNN model\n",
        "model2 = models.Sequential()\n",
        "\n",
        "# Adding Convolutional layer\n",
        "model2.add(layers.Conv2D(32, (3, 3), activation='relu', input_shape=(32, 32, 3)))\n",
        "model2.add(layers.MaxPooling2D((2, 2)))\n",
        "\n",
        "# Adding 2nd Convolutional layer\n",
        "model2.add(layers.Conv2D(64, (3, 3), activation='relu'))\n",
        "model2.add(layers.MaxPooling2D((2, 2)))\n",
        "\n",
        "# Adding 3rd Convolutional layer\n",
        "model2.add(layers.Conv2D(64, (3, 3), activation='relu'))\n",
        "\n",
        "# Flattening the output from the convolutional layers\n",
        "model2.add(layers.Flatten())\n",
        "\n",
        "# Adding Fully connected (Dense) layer\n",
        "model2.add(layers.Dense(64, activation='relu'))\n",
        "\n",
        "# Adding Output layer (10 classes for CIFAR-10)\n",
        "model2.add(layers.Dense(10))"
      ],
      "metadata": {
        "id": "w0jQ4CAzNqnL"
      },
      "execution_count": null,
      "outputs": []
    },
    {
      "cell_type": "code",
      "source": [
        "#Compiling the model (same structure to compare the accuracy)\n",
        "\n",
        "model2.compile(optimizer='adam',loss=tf.keras.losses.SparseCategoricalCrossentropy(from_logits=True),metrics=['accuracy'])"
      ],
      "metadata": {
        "id": "T28IjDqtOF2z"
      },
      "execution_count": null,
      "outputs": []
    },
    {
      "cell_type": "code",
      "source": [
        "history2 = model2.fit(datagen.flow(x_train, y_train, batch_size=64),epochs=10, validation_data=(x_test, y_test))"
      ],
      "metadata": {
        "id": "dsoKjG0IM7Tr"
      },
      "execution_count": null,
      "outputs": []
    },
    {
      "cell_type": "code",
      "source": [
        "model2.save('/content/drive/MyDrive/Learn_tube/model2.keras')"
      ],
      "metadata": {
        "id": "NFYCrT4Couz8"
      },
      "execution_count": null,
      "outputs": []
    },
    {
      "cell_type": "code",
      "source": [
        "model2_load = load_model('/content/drive/MyDrive/Learn_tube/model2.keras')"
      ],
      "metadata": {
        "id": "ltZ0XCsmpK-r"
      },
      "execution_count": 69,
      "outputs": []
    },
    {
      "cell_type": "code",
      "source": [
        "model2_load.evaluate(x_test, y_test)"
      ],
      "metadata": {
        "id": "wk0IV-RPNWDT",
        "colab": {
          "base_uri": "https://localhost:8080/"
        },
        "outputId": "fd52739e-0fc2-4e86-9794-9045474bf58d"
      },
      "execution_count": 70,
      "outputs": [
        {
          "output_type": "stream",
          "name": "stdout",
          "text": [
            "\u001b[1m313/313\u001b[0m \u001b[32m━━━━━━━━━━━━━━━━━━━━\u001b[0m\u001b[37m\u001b[0m \u001b[1m4s\u001b[0m 12ms/step - accuracy: 0.6448 - loss: 1.0188\n"
          ]
        },
        {
          "output_type": "execute_result",
          "data": {
            "text/plain": [
              "[1.0285624265670776, 0.6391000151634216]"
            ]
          },
          "metadata": {},
          "execution_count": 70
        }
      ]
    },
    {
      "cell_type": "code",
      "source": [
        "y_pred2= model2_load.predict(x_test)\n",
        "y_pred_class2 = np.argmax(y_pred2, axis=1)"
      ],
      "metadata": {
        "id": "44BsJWQ9ORrP",
        "colab": {
          "base_uri": "https://localhost:8080/"
        },
        "outputId": "360f430b-2813-4881-9d80-ef25d3349890"
      },
      "execution_count": 71,
      "outputs": [
        {
          "output_type": "stream",
          "name": "stdout",
          "text": [
            "\u001b[1m313/313\u001b[0m \u001b[32m━━━━━━━━━━━━━━━━━━━━\u001b[0m\u001b[37m\u001b[0m \u001b[1m4s\u001b[0m 12ms/step\n"
          ]
        }
      ]
    },
    {
      "cell_type": "code",
      "source": [
        "Img_Classificationreport2 = classification_report(y_test_flat, y_pred_class2, target_names=['airplane', 'automobile', 'bird', 'cat', 'deer', 'dog', 'frog', 'horse', 'ship', 'truck'])\n",
        "print(Img_Classificationreport2)"
      ],
      "metadata": {
        "id": "ZWaPEPFPOmZn",
        "colab": {
          "base_uri": "https://localhost:8080/"
        },
        "outputId": "1f423b0d-9db0-4524-ff74-36caf2f2e132"
      },
      "execution_count": 72,
      "outputs": [
        {
          "output_type": "stream",
          "name": "stdout",
          "text": [
            "              precision    recall  f1-score   support\n",
            "\n",
            "    airplane       0.70      0.72      0.71      1000\n",
            "  automobile       0.64      0.86      0.74      1000\n",
            "        bird       0.65      0.47      0.54      1000\n",
            "         cat       0.48      0.40      0.44      1000\n",
            "        deer       0.78      0.35      0.48      1000\n",
            "         dog       0.60      0.59      0.59      1000\n",
            "        frog       0.57      0.81      0.67      1000\n",
            "       horse       0.67      0.68      0.67      1000\n",
            "        ship       0.83      0.72      0.77      1000\n",
            "       truck       0.59      0.81      0.68      1000\n",
            "\n",
            "    accuracy                           0.64     10000\n",
            "   macro avg       0.65      0.64      0.63     10000\n",
            "weighted avg       0.65      0.64      0.63     10000\n",
            "\n"
          ]
        }
      ]
    },
    {
      "cell_type": "markdown",
      "source": [
        "Obsevation: Applying data augmentation has not increased accuracy for the same model structure"
      ],
      "metadata": {
        "id": "xKkr3XKoSglb"
      }
    },
    {
      "cell_type": "markdown",
      "source": [
        "**2.Adding Batch normalization, dropout layers and more convolutional layers**"
      ],
      "metadata": {
        "id": "ZAmjUfOxSw2p"
      }
    },
    {
      "cell_type": "code",
      "source": [
        "# Build the CNN model with additional layers, batch normalization, and dropout\n",
        "model3 = models.Sequential()\n",
        "\n",
        "# 1st Convolutional Block\n",
        "model3.add(layers.Conv2D(32, (3, 3), activation='relu', input_shape=(32, 32, 3)))\n",
        "model3.add(layers.BatchNormalization())\n",
        "model3.add(layers.Conv2D(32, (3, 3), activation='relu'))\n",
        "model3.add(layers.BatchNormalization())\n",
        "model3.add(layers.MaxPooling2D((2, 2)))\n",
        "model3.add(layers.Dropout(0.25))\n",
        "\n",
        "# 2nd Convolutional Block\n",
        "model3.add(layers.Conv2D(64, (3, 3), activation='relu'))\n",
        "model3.add(layers.BatchNormalization())\n",
        "model3.add(layers.Conv2D(64, (3, 3), activation='relu'))\n",
        "model3.add(layers.BatchNormalization())\n",
        "model3.add(layers.MaxPooling2D((2, 2)))\n",
        "model3.add(layers.Dropout(0.25))\n",
        "\n",
        "# 3rd Convolutional Block\n",
        "model3.add(layers.Conv2D(128, (3, 3), activation='relu'))\n",
        "model3.add(layers.BatchNormalization())\n",
        "model3.add(layers.Conv2D(128, (3, 3), activation='relu'))\n",
        "model3.add(layers.BatchNormalization())\n",
        "model3.add(layers.Dropout(0.4))\n",
        "\n",
        "# Flatten and Fully Connected Layers\n",
        "model3.add(layers.Flatten())\n",
        "model3.add(layers.Dense(128, activation='relu'))\n",
        "model3.add(layers.BatchNormalization())\n",
        "model3.add(layers.Dropout(0.5))  # Dropout to prevent overfitting\n",
        "\n",
        "# Output layer\n",
        "model3.add(layers.Dense(10, activation='softmax'))\n"
      ],
      "metadata": {
        "id": "lZLBqeVtTMrW"
      },
      "execution_count": null,
      "outputs": []
    },
    {
      "cell_type": "code",
      "source": [
        "#Compiling the model (same structure to compare the accuracy)\n",
        "\n",
        "model3.compile(optimizer='adam',loss=tf.keras.losses.SparseCategoricalCrossentropy(from_logits=True),metrics=['accuracy'])"
      ],
      "metadata": {
        "id": "8rpFVmOrUanL"
      },
      "execution_count": null,
      "outputs": []
    },
    {
      "cell_type": "code",
      "source": [
        "history3 = model3.fit(x_train, y_train, epochs=10, validation_data=(x_test, y_test))"
      ],
      "metadata": {
        "id": "JQGB9UsAUjQS"
      },
      "execution_count": null,
      "outputs": []
    },
    {
      "cell_type": "code",
      "source": [
        "model3.save('/content/drive/MyDrive/Learn_tube/model3.keras')"
      ],
      "metadata": {
        "id": "WJEUrcZzfHjs"
      },
      "execution_count": null,
      "outputs": []
    },
    {
      "cell_type": "code",
      "source": [
        "model3_load = load_model('/content/drive/MyDrive/Learn_tube/model3.keras')"
      ],
      "metadata": {
        "id": "ckD0Fmx4perW"
      },
      "execution_count": 73,
      "outputs": []
    },
    {
      "cell_type": "code",
      "source": [
        "model3_load.evaluate(x_test, y_test)"
      ],
      "metadata": {
        "id": "YjNi3RAZWu-9",
        "colab": {
          "base_uri": "https://localhost:8080/"
        },
        "outputId": "2f5059c3-a1b4-432a-ca6e-0598bbf40f1c"
      },
      "execution_count": 74,
      "outputs": [
        {
          "output_type": "stream",
          "name": "stderr",
          "text": [
            "/usr/local/lib/python3.10/dist-packages/keras/src/backend/tensorflow/nn.py:609: UserWarning: \"`sparse_categorical_crossentropy` received `from_logits=True`, but the `output` argument was produced by a Softmax activation and thus does not represent logits. Was this intended?\n",
            "  output, from_logits = _get_logits(\n"
          ]
        },
        {
          "output_type": "stream",
          "name": "stdout",
          "text": [
            "\u001b[1m313/313\u001b[0m \u001b[32m━━━━━━━━━━━━━━━━━━━━\u001b[0m\u001b[37m\u001b[0m \u001b[1m14s\u001b[0m 42ms/step - accuracy: 0.7896 - loss: 0.6299\n"
          ]
        },
        {
          "output_type": "execute_result",
          "data": {
            "text/plain": [
              "[0.6279165148735046, 0.7904999852180481]"
            ]
          },
          "metadata": {},
          "execution_count": 74
        }
      ]
    },
    {
      "cell_type": "code",
      "source": [
        "y_pred3= model3_load.predict(x_test)\n",
        "y_pred_class3 = np.argmax(y_pred3, axis=1)"
      ],
      "metadata": {
        "id": "moW3CqBlWpdR",
        "colab": {
          "base_uri": "https://localhost:8080/"
        },
        "outputId": "5049a0d9-7667-495b-eb43-1558145a192e"
      },
      "execution_count": 75,
      "outputs": [
        {
          "output_type": "stream",
          "name": "stdout",
          "text": [
            "\u001b[1m313/313\u001b[0m \u001b[32m━━━━━━━━━━━━━━━━━━━━\u001b[0m\u001b[37m\u001b[0m \u001b[1m15s\u001b[0m 45ms/step\n"
          ]
        }
      ]
    },
    {
      "cell_type": "code",
      "source": [
        "Img_Classificationreport3 = classification_report(y_test_flat, y_pred_class3, target_names=['airplane', 'automobile', 'bird', 'cat', 'deer', 'dog', 'frog', 'horse', 'ship', 'truck'])\n",
        "print(Img_Classificationreport3)"
      ],
      "metadata": {
        "id": "suhP2QMrWpjr",
        "colab": {
          "base_uri": "https://localhost:8080/"
        },
        "outputId": "8a8bb64e-37ac-4294-8fa4-4eb6e13f6ea3"
      },
      "execution_count": 76,
      "outputs": [
        {
          "output_type": "stream",
          "name": "stdout",
          "text": [
            "              precision    recall  f1-score   support\n",
            "\n",
            "    airplane       0.84      0.73      0.78      1000\n",
            "  automobile       0.93      0.90      0.91      1000\n",
            "        bird       0.79      0.61      0.69      1000\n",
            "         cat       0.62      0.62      0.62      1000\n",
            "        deer       0.80      0.77      0.78      1000\n",
            "         dog       0.63      0.79      0.70      1000\n",
            "        frog       0.81      0.87      0.84      1000\n",
            "       horse       0.84      0.84      0.84      1000\n",
            "        ship       0.82      0.92      0.86      1000\n",
            "       truck       0.87      0.87      0.87      1000\n",
            "\n",
            "    accuracy                           0.79     10000\n",
            "   macro avg       0.80      0.79      0.79     10000\n",
            "weighted avg       0.80      0.79      0.79     10000\n",
            "\n"
          ]
        }
      ]
    },
    {
      "cell_type": "markdown",
      "source": [
        "Observation:Adding Batch normalization, dropout layers and more convolutional layers has further increased the accuracy"
      ],
      "metadata": {
        "id": "omXz6rQKb-co"
      }
    },
    {
      "cell_type": "markdown",
      "source": [
        "Early stopping and increased epochs"
      ],
      "metadata": {
        "id": "MIjGb6U9fPPn"
      }
    },
    {
      "cell_type": "code",
      "source": [
        "from google.colab import drive\n",
        "drive.mount('/content/drive/')"
      ],
      "metadata": {
        "id": "9u2YWzJMblj8"
      },
      "execution_count": null,
      "outputs": []
    },
    {
      "cell_type": "code",
      "source": [
        "# Using same architecture as previous\n",
        "model4 = models.Sequential()\n",
        "\n",
        "# 1st Convolutional Block\n",
        "model4.add(layers.Conv2D(32, (3, 3), activation='relu', input_shape=(32, 32, 3)))\n",
        "model4.add(layers.BatchNormalization())\n",
        "model4.add(layers.Conv2D(32, (3, 3), activation='relu'))\n",
        "model4.add(layers.BatchNormalization())\n",
        "model4.add(layers.MaxPooling2D((2, 2)))\n",
        "model4.add(layers.Dropout(0.25))\n",
        "\n",
        "# 2nd Convolutional Block\n",
        "model4.add(layers.Conv2D(64, (3, 3), activation='relu'))\n",
        "model4.add(layers.BatchNormalization())\n",
        "model4.add(layers.Conv2D(64, (3, 3), activation='relu'))\n",
        "model4.add(layers.BatchNormalization())\n",
        "model4.add(layers.MaxPooling2D((2, 2)))\n",
        "model4.add(layers.Dropout(0.25))\n",
        "\n",
        "# 3rd Convolutional Block\n",
        "model4.add(layers.Conv2D(128, (3, 3), activation='relu'))\n",
        "model4.add(layers.BatchNormalization())\n",
        "model4.add(layers.Conv2D(128, (3, 3), activation='relu'))\n",
        "model4.add(layers.BatchNormalization())\n",
        "model4.add(layers.Dropout(0.4))\n",
        "\n",
        "# Flatten and Fully Connected Layers\n",
        "model4.add(layers.Flatten())\n",
        "model4.add(layers.Dense(128, activation='relu'))\n",
        "model4.add(layers.BatchNormalization())\n",
        "model4.add(layers.Dropout(0.5))  # Dropout to prevent overfitting\n",
        "\n",
        "# Output layer\n",
        "model4.add(layers.Dense(10, activation='softmax'))\n"
      ],
      "metadata": {
        "id": "wqDSXkceddNO"
      },
      "execution_count": null,
      "outputs": []
    },
    {
      "cell_type": "code",
      "source": [
        "#Compiling the model (same structure to compare the accuracy)\n",
        "\n",
        "model4.compile(optimizer='adam',loss=tf.keras.losses.SparseCategoricalCrossentropy(from_logits=True),metrics=['accuracy'])"
      ],
      "metadata": {
        "id": "aZmuUvgWd_wM"
      },
      "execution_count": null,
      "outputs": []
    },
    {
      "cell_type": "code",
      "source": [
        "from tensorflow.keras.callbacks import EarlyStopping, ModelCheckpoint\n",
        "# Early stopping and saving the best model\n",
        "early_stopping = EarlyStopping(monitor='val_loss', patience=10, restore_best_weights=True)\n",
        "model_checkpoint = ModelCheckpoint('/content/drive/MyDrive/Learn_tube/best_model_e50.keras', save_best_only=True)\n",
        "\n",
        "# Train the model with early stopping\n",
        "history4 = model4.fit(x_train, y_train,epochs=50, validation_data=(x_test, y_test),callbacks=[early_stopping, model_checkpoint])"
      ],
      "metadata": {
        "id": "JcUJHxu9WprR"
      },
      "execution_count": null,
      "outputs": []
    },
    {
      "cell_type": "code",
      "source": [
        "from tensorflow.keras.models import load_model\n",
        "\n",
        "# Load the model\n",
        "model4_load = load_model('/content/drive/MyDrive/Learn_tube/best_model_e50.keras')"
      ],
      "metadata": {
        "id": "ZWJ-4L2jfXas"
      },
      "execution_count": 85,
      "outputs": []
    },
    {
      "cell_type": "code",
      "source": [
        "model4_load.evaluate(x_test, y_test)"
      ],
      "metadata": {
        "id": "RvWE7P9mf6Co",
        "colab": {
          "base_uri": "https://localhost:8080/"
        },
        "outputId": "3945bb7f-d060-47e3-b422-e2e0c5969a68"
      },
      "execution_count": 86,
      "outputs": [
        {
          "output_type": "stream",
          "name": "stderr",
          "text": [
            "/usr/local/lib/python3.10/dist-packages/keras/src/backend/tensorflow/nn.py:609: UserWarning: \"`sparse_categorical_crossentropy` received `from_logits=True`, but the `output` argument was produced by a Softmax activation and thus does not represent logits. Was this intended?\n",
            "  output, from_logits = _get_logits(\n"
          ]
        },
        {
          "output_type": "stream",
          "name": "stdout",
          "text": [
            "\u001b[1m313/313\u001b[0m \u001b[32m━━━━━━━━━━━━━━━━━━━━\u001b[0m\u001b[37m\u001b[0m \u001b[1m10s\u001b[0m 29ms/step - accuracy: 0.8233 - loss: 0.5309\n"
          ]
        },
        {
          "output_type": "execute_result",
          "data": {
            "text/plain": [
              "[0.5341837406158447, 0.8223999738693237]"
            ]
          },
          "metadata": {},
          "execution_count": 86
        }
      ]
    },
    {
      "cell_type": "code",
      "source": [
        "y_pred4= model4_load.predict(x_test)\n",
        "y_pred_class4 = np.argmax(y_pred4, axis=1)"
      ],
      "metadata": {
        "id": "VINOWE9wgXUj",
        "colab": {
          "base_uri": "https://localhost:8080/"
        },
        "outputId": "6f980993-9f64-4fd9-eae1-f456b48a4ee5"
      },
      "execution_count": 79,
      "outputs": [
        {
          "output_type": "stream",
          "name": "stdout",
          "text": [
            "\u001b[1m313/313\u001b[0m \u001b[32m━━━━━━━━━━━━━━━━━━━━\u001b[0m\u001b[37m\u001b[0m \u001b[1m9s\u001b[0m 29ms/step\n"
          ]
        }
      ]
    },
    {
      "cell_type": "code",
      "source": [
        "#Flattening the true labels (y_test is originally 2D, e.g. (10000, 1))\n",
        "y_test_flat = y_test.ravel()"
      ],
      "metadata": {
        "id": "3tM0hGKehQvx"
      },
      "execution_count": 80,
      "outputs": []
    },
    {
      "cell_type": "code",
      "source": [
        "from sklearn.metrics import classification_report\n",
        "Img_Classificationreport4 = classification_report(y_test_flat, y_pred_class4, target_names=['airplane', 'automobile', 'bird', 'cat', 'deer', 'dog', 'frog', 'horse', 'ship', 'truck'])\n",
        "print(Img_Classificationreport4)"
      ],
      "metadata": {
        "id": "BvkAEdwchVSX",
        "colab": {
          "base_uri": "https://localhost:8080/"
        },
        "outputId": "165d54bf-3f2a-479b-dac2-6508a48b4bc8"
      },
      "execution_count": 81,
      "outputs": [
        {
          "output_type": "stream",
          "name": "stdout",
          "text": [
            "              precision    recall  f1-score   support\n",
            "\n",
            "    airplane       0.82      0.84      0.83      1000\n",
            "  automobile       0.94      0.90      0.92      1000\n",
            "        bird       0.78      0.70      0.74      1000\n",
            "         cat       0.68      0.64      0.66      1000\n",
            "        deer       0.81      0.81      0.81      1000\n",
            "         dog       0.71      0.78      0.75      1000\n",
            "        frog       0.85      0.88      0.87      1000\n",
            "       horse       0.84      0.88      0.86      1000\n",
            "        ship       0.89      0.90      0.89      1000\n",
            "       truck       0.91      0.88      0.90      1000\n",
            "\n",
            "    accuracy                           0.82     10000\n",
            "   macro avg       0.82      0.82      0.82     10000\n",
            "weighted avg       0.82      0.82      0.82     10000\n",
            "\n"
          ]
        }
      ]
    },
    {
      "cell_type": "markdown",
      "source": [
        "Observation: After increasing epoch and early stopping, best accuracy is reached"
      ],
      "metadata": {
        "id": "UBr5D6WUW77P"
      }
    },
    {
      "cell_type": "markdown",
      "source": [
        "# **Using Resnet**"
      ],
      "metadata": {
        "id": "OK07YagiP0sL"
      }
    },
    {
      "cell_type": "code",
      "source": [
        "# Convert labels to one-hot encoding\n",
        "from tensorflow.keras.utils import to_categorical\n",
        "y_train2 = to_categorical(y_train, 10)\n",
        "y_test2 = to_categorical(y_test, 10)\n"
      ],
      "metadata": {
        "id": "3ejPGdjQJdLl"
      },
      "execution_count": null,
      "outputs": []
    },
    {
      "cell_type": "code",
      "source": [
        "from tensorflow.keras.applications import ResNet50\n",
        "from tensorflow.keras.models import Model\n",
        "from tensorflow.keras.layers import Dense, GlobalAveragePooling2D\n",
        "from tensorflow.keras.optimizers import Adam\n",
        "from tensorflow.keras.callbacks import ReduceLROnPlateau, EarlyStopping, ModelCheckpoint\n",
        "from tensorflow.keras.preprocessing.image import ImageDataGenerator\n",
        "\n",
        "# Load the ResNet50 model pre-trained on ImageNet, excluding the top layer\n",
        "resnet_model = ResNet50(weights='imagenet', include_top=False, input_shape=(32, 32, 3))\n",
        "\n",
        "# Freeze all layers except for the last 10 layers. Only last 10 layers will be trained. Early and middle layers are layers that are used for more general training of images.\n",
        "# Resnet is already pretrained model. So, no need to learn basic image features. However The later layers in the network typically learn more task-specific features.\n",
        "#By unfreezing the last 10 layers, we allow them to adjust and fine-tune for the CIFAR-10 dataset.\n",
        "\n",
        "for layer in resnet_model.layers[:-10]:\n",
        "    layer.trainable = False\n",
        "\n",
        "# Add custom layers\n",
        "x = resnet_model.output           #This is the feature map generated by the final convolutional layer of ResNet.\n",
        "x = GlobalAveragePooling2D()(x)   #global average pooling takes average of each feature map and reduces spatial dimensions (height and width) to a single number per feature map.\n",
        "x = Dense(512, activation='relu')(x) #It’s a learnable layer that will transform the output from the previous layer (the feature map) into a vector of 512 features.\n",
        "x = Dense(10, activation='softmax', dtype='float32')(x)  # Use float32 for final layer\n",
        "\n",
        "# Create the model\n",
        "model5 = Model(inputs=resnet_model.input, outputs=x)\n",
        "\n",
        "# Compile the model with AdamW optimizer\n",
        "model5.compile(optimizer=tf.keras.optimizers.AdamW(learning_rate=0.001),\n",
        "              loss='categorical_crossentropy',\n",
        "              metrics=['accuracy'])\n",
        "\n",
        "\n",
        "# Data augmentation to improve performance\n",
        "datagen = ImageDataGenerator(\n",
        "    width_shift_range=0.1,\n",
        "    height_shift_range=0.1,\n",
        "    horizontal_flip=True,\n",
        ")\n",
        "\n",
        "\n",
        "# Early stopping to prevent overfitting (stops when validation loss doesn't improve)\n",
        "early_stopping = EarlyStopping(\n",
        "    monitor='val_loss',  # Monitor validation loss\n",
        "    patience=10,         # Number of epochs with no improvement after which training will be stopped\n",
        "    verbose=1,\n",
        "    restore_best_weights=True  # Restore model weights from the epoch with the best loss\n",
        ")\n",
        "\n",
        "# Model checkpoint to save the best model during training\n",
        "model_checkpoint = ModelCheckpoint(\n",
        "    '/content/drive/MyDrive/Learn_tube/best_resnet50_cifar10.keras',  # Filepath to save the best model\n",
        "    monitor='val_accuracy',      # Monitor validation accuracy\n",
        "    save_best_only=True,         # Save only the best model (based on validation accuracy)\n",
        "    verbose=1\n",
        ")\n",
        "\n",
        "# Reduce learning rate when the validation loss plateaus\n",
        "reduce_lr = ReduceLROnPlateau(\n",
        "    monitor='val_loss',          # Monitor validation loss\n",
        "    factor=0.2,                  # Reduce learning rate by a factor of 0.2\n",
        "    patience=5,                  # Number of epochs with no improvement before reducing learning rate\n",
        "    min_lr=1e-6,                 # Minimum learning rate after reduction\n",
        "    verbose=1\n",
        ")\n",
        "\n",
        "# Add these callbacks to the fit function\n",
        "callbacks = [early_stopping, model_checkpoint, reduce_lr]\n",
        "\n",
        "\n",
        "\n"
      ],
      "metadata": {
        "id": "quEWDbylIczt"
      },
      "execution_count": null,
      "outputs": []
    },
    {
      "cell_type": "code",
      "source": [
        "\n",
        "batch_size = 64\n",
        "history5 = model5.fit(datagen.flow(x_train, y_train2, batch_size=batch_size), epochs=30,validation_data=(x_test, y_test2),callbacks=callbacks)"
      ],
      "metadata": {
        "id": "18W0BLjxMOii"
      },
      "execution_count": null,
      "outputs": []
    },
    {
      "cell_type": "code",
      "source": [
        "model5_load = load_model('/content/drive/MyDrive/Learn_tube/best_resnet50_cifar10.keras')"
      ],
      "metadata": {
        "id": "vDb-qzLGZvgW"
      },
      "execution_count": 166,
      "outputs": []
    },
    {
      "cell_type": "code",
      "source": [
        "# Convert labels to one-hot encoding\n",
        "from tensorflow.keras.utils import to_categorical\n",
        "y_train2 = to_categorical(y_train, 10)\n",
        "y_test2 = to_categorical(y_test, 10)"
      ],
      "metadata": {
        "id": "SjtvVNQNFkLr"
      },
      "execution_count": 167,
      "outputs": []
    },
    {
      "cell_type": "code",
      "source": [
        "model5_load.evaluate(x_test, y_test2)"
      ],
      "metadata": {
        "id": "_HXoc3wjaIDj",
        "colab": {
          "base_uri": "https://localhost:8080/"
        },
        "outputId": "3017d786-f1a0-4f30-8a9f-c39b38683e69"
      },
      "execution_count": 168,
      "outputs": [
        {
          "output_type": "stream",
          "name": "stdout",
          "text": [
            "\u001b[1m313/313\u001b[0m \u001b[32m━━━━━━━━━━━━━━━━━━━━\u001b[0m\u001b[37m\u001b[0m \u001b[1m48s\u001b[0m 138ms/step - accuracy: 0.3758 - loss: 2.4096\n"
          ]
        },
        {
          "output_type": "execute_result",
          "data": {
            "text/plain": [
              "[2.428081750869751, 0.37470000982284546]"
            ]
          },
          "metadata": {},
          "execution_count": 168
        }
      ]
    },
    {
      "cell_type": "code",
      "source": [
        "y_pred5= model5_load.predict(x_test)\n",
        "y_pred_class5 = np.argmax(y_pred5, axis=1)"
      ],
      "metadata": {
        "id": "3zl_ctN9XdF_",
        "colab": {
          "base_uri": "https://localhost:8080/"
        },
        "outputId": "fe35c36f-3cca-47ba-8949-eba50dae8d4a"
      },
      "execution_count": 90,
      "outputs": [
        {
          "output_type": "stream",
          "name": "stdout",
          "text": [
            "\u001b[1m313/313\u001b[0m \u001b[32m━━━━━━━━━━━━━━━━━━━━\u001b[0m\u001b[37m\u001b[0m \u001b[1m47s\u001b[0m 144ms/step\n"
          ]
        }
      ]
    },
    {
      "cell_type": "code",
      "source": [
        "Img_Classificationreport5 = classification_report(y_test_flat, y_pred_class5, target_names=['airplane', 'automobile', 'bird', 'cat', 'deer', 'dog', 'frog', 'horse', 'ship', 'truck'])\n",
        "print(Img_Classificationreport5)"
      ],
      "metadata": {
        "id": "c6EzzOtSJ4gA",
        "colab": {
          "base_uri": "https://localhost:8080/"
        },
        "outputId": "3a8351cc-ab0e-4e1a-fd7c-b6bc0c158d53"
      },
      "execution_count": 91,
      "outputs": [
        {
          "output_type": "stream",
          "name": "stdout",
          "text": [
            "              precision    recall  f1-score   support\n",
            "\n",
            "    airplane       0.53      0.59      0.56      1000\n",
            "  automobile       0.29      0.87      0.44      1000\n",
            "        bird       0.71      0.06      0.12      1000\n",
            "         cat       0.40      0.08      0.14      1000\n",
            "        deer       0.88      0.01      0.01      1000\n",
            "         dog       0.66      0.15      0.24      1000\n",
            "        frog       0.25      0.84      0.39      1000\n",
            "       horse       0.68      0.30      0.42      1000\n",
            "        ship       0.59      0.64      0.61      1000\n",
            "       truck       0.43      0.20      0.27      1000\n",
            "\n",
            "    accuracy                           0.37     10000\n",
            "   macro avg       0.54      0.37      0.32     10000\n",
            "weighted avg       0.54      0.37      0.32     10000\n",
            "\n"
          ]
        }
      ]
    },
    {
      "cell_type": "markdown",
      "source": [
        "Observation: Resnet is a pretrained model trained on imagenet dataset. We have trained only last 10 layers of the model. The accuracy is genrally good. But here accruracy is lesser than conventional CNN because the model is more suited to large dataset. Cifar 10 dataset has comparetively smaller size 32x32"
      ],
      "metadata": {
        "id": "dOI2TLzgZwf8"
      }
    },
    {
      "cell_type": "code",
      "source": [],
      "metadata": {
        "id": "50r9RKiMGXdY"
      },
      "execution_count": null,
      "outputs": []
    },
    {
      "cell_type": "markdown",
      "source": [
        "**Training all layers of Resnet**"
      ],
      "metadata": {
        "id": "sUJzezCZGYOj"
      }
    },
    {
      "cell_type": "code",
      "source": [
        "from tensorflow.keras.applications import ResNet50\n",
        "from tensorflow.keras.models import Model\n",
        "from tensorflow.keras.layers import Dense, GlobalAveragePooling2D\n",
        "from tensorflow.keras.optimizers import Adam\n",
        "from tensorflow.keras.callbacks import ReduceLROnPlateau, EarlyStopping, ModelCheckpoint\n",
        "from tensorflow.keras.preprocessing.image import ImageDataGenerator\n",
        "\n",
        "# Load the ResNet50 model pre-trained on ImageNet, excluding the top layer\n",
        "resnet_model = ResNet50(weights='imagenet', include_top=False, input_shape=(32, 32, 3))\n",
        "\n",
        "# Add custom layers\n",
        "x = resnet_model.output           #This is the feature map generated by the final convolutional layer of ResNet.\n",
        "x = GlobalAveragePooling2D()(x)   #global average pooling takes average of each feature map and reduces spatial dimensions (height and width) to a single number per feature map.\n",
        "x = Dense(512, activation='relu')(x) #It’s a learnable layer that will transform the output from the previous layer (the feature map) into a vector of 512 features.\n",
        "x = Dense(10, activation='softmax', dtype='float32')(x)  # Use float32 for final layer\n",
        "\n",
        "# Create the model\n",
        "model6 = Model(inputs=resnet_model.input, outputs=x)\n",
        "\n",
        "# Compile the model with AdamW optimizer\n",
        "model6.compile(optimizer=tf.keras.optimizers.AdamW(learning_rate=0.001),\n",
        "              loss='categorical_crossentropy',\n",
        "              metrics=['accuracy'])\n",
        "\n",
        "\n",
        "# Early stopping to prevent overfitting (stops when validation loss doesn't improve)\n",
        "early_stopping = EarlyStopping(\n",
        "    monitor='val_loss',  # Monitor validation loss\n",
        "    patience=10,         # Number of epochs with no improvement after which training will be stopped\n",
        "    verbose=1,\n",
        "    restore_best_weights=True  # Restore model weights from the epoch with the best loss\n",
        ")\n",
        "\n",
        "# Model checkpoint to save the best model during training\n",
        "model_checkpoint = ModelCheckpoint(\n",
        "    '/content/drive/MyDrive/Learn_tube/best_resnet50_cifar10_2.keras',  # Filepath to save the best model\n",
        "    monitor='val_accuracy',      # Monitor validation accuracy\n",
        "    save_best_only=True,         # Save only the best model (based on validation accuracy)\n",
        "    verbose=1\n",
        ")\n",
        "\n",
        "# Reduce learning rate when the validation loss plateaus\n",
        "reduce_lr = ReduceLROnPlateau(\n",
        "    monitor='val_loss',          # Monitor validation loss\n",
        "    factor=0.2,                  # Reduce learning rate by a factor of 0.2\n",
        "    patience=5,                  # Number of epochs with no improvement before reducing learning rate\n",
        "    min_lr=1e-6,                 # Minimum learning rate after reduction\n",
        "    verbose=1\n",
        ")\n",
        "\n",
        "# Add these callbacks to the fit function\n",
        "callbacks = [early_stopping, model_checkpoint, reduce_lr]\n"
      ],
      "metadata": {
        "id": "iYcGfNuAX5HG"
      },
      "execution_count": null,
      "outputs": []
    },
    {
      "cell_type": "code",
      "source": [
        "\n",
        "batch_size = 64\n",
        "history6 = model6.fit(x_train, y_train2, epochs=30,validation_data=(x_test, y_test2),callbacks=callbacks)"
      ],
      "metadata": {
        "id": "d4lp3bvnYERq"
      },
      "execution_count": null,
      "outputs": []
    },
    {
      "cell_type": "code",
      "source": [
        "model6_load = load_model('/content/drive/MyDrive/Learn_tube/best_resnet50_cifar10_2.keras')"
      ],
      "metadata": {
        "id": "J5CNHdkuYU4d"
      },
      "execution_count": 92,
      "outputs": []
    },
    {
      "cell_type": "code",
      "source": [
        "model6_load.evaluate(x_test, y_test2)"
      ],
      "metadata": {
        "id": "dVW28OTJZDBH",
        "colab": {
          "base_uri": "https://localhost:8080/"
        },
        "outputId": "9cc92d4c-36ac-47b9-e9f4-1d83e16ba0d8"
      },
      "execution_count": 93,
      "outputs": [
        {
          "output_type": "stream",
          "name": "stdout",
          "text": [
            "\u001b[1m313/313\u001b[0m \u001b[32m━━━━━━━━━━━━━━━━━━━━\u001b[0m\u001b[37m\u001b[0m \u001b[1m53s\u001b[0m 137ms/step - accuracy: 0.6867 - loss: 0.9093\n"
          ]
        },
        {
          "output_type": "execute_result",
          "data": {
            "text/plain": [
              "[0.9227740168571472, 0.6869000196456909]"
            ]
          },
          "metadata": {},
          "execution_count": 93
        }
      ]
    },
    {
      "cell_type": "code",
      "source": [
        "y_pred6= model6_load.predict(x_test)\n",
        "y_pred_class6 = np.argmax(y_pred6, axis=1)"
      ],
      "metadata": {
        "id": "HPweetINZNXe",
        "colab": {
          "base_uri": "https://localhost:8080/"
        },
        "outputId": "62c774f4-d590-47b1-ea8e-32c8307075f7"
      },
      "execution_count": 94,
      "outputs": [
        {
          "output_type": "stream",
          "name": "stdout",
          "text": [
            "\u001b[1m313/313\u001b[0m \u001b[32m━━━━━━━━━━━━━━━━━━━━\u001b[0m\u001b[37m\u001b[0m \u001b[1m47s\u001b[0m 143ms/step\n"
          ]
        }
      ]
    },
    {
      "cell_type": "code",
      "source": [
        "Img_Classificationreport6 = classification_report(y_test_flat, y_pred_class6, target_names=['airplane', 'automobile', 'bird', 'cat', 'deer', 'dog', 'frog', 'horse', 'ship', 'truck'])\n",
        "print(Img_Classificationreport6)"
      ],
      "metadata": {
        "id": "rCrnMNo4ZYQQ",
        "colab": {
          "base_uri": "https://localhost:8080/"
        },
        "outputId": "5fad2926-2e11-4c4f-e3d6-706a8835c37d"
      },
      "execution_count": 95,
      "outputs": [
        {
          "output_type": "stream",
          "name": "stdout",
          "text": [
            "              precision    recall  f1-score   support\n",
            "\n",
            "    airplane       0.74      0.67      0.70      1000\n",
            "  automobile       0.78      0.84      0.81      1000\n",
            "        bird       0.72      0.45      0.56      1000\n",
            "         cat       0.52      0.48      0.50      1000\n",
            "        deer       0.63      0.73      0.67      1000\n",
            "         dog       0.66      0.49      0.56      1000\n",
            "        frog       0.67      0.85      0.75      1000\n",
            "       horse       0.66      0.85      0.75      1000\n",
            "        ship       0.78      0.68      0.73      1000\n",
            "       truck       0.74      0.82      0.78      1000\n",
            "\n",
            "    accuracy                           0.69     10000\n",
            "   macro avg       0.69      0.69      0.68     10000\n",
            "weighted avg       0.69      0.69      0.68     10000\n",
            "\n"
          ]
        }
      ]
    },
    {
      "cell_type": "markdown",
      "source": [
        "Observation: Training all layers of Resnet is computationally more heavy. Results show that accuracy has improved but still less than conventional CNN. During training, it was observed that as epoch increses, the model is overfitting the data as training accuracy is increasing but validation accuracy is reducing. This was checked by eraly stopping. Above reasons suggest that for samller size images like Cifar10 dataset, conventional CNN is more suited than pretrained RESNET"
      ],
      "metadata": {
        "id": "FWISd0pWEnbV"
      }
    },
    {
      "cell_type": "code",
      "source": [],
      "metadata": {
        "id": "DrKyvRjPJqAr"
      },
      "execution_count": null,
      "outputs": []
    },
    {
      "cell_type": "code",
      "source": [],
      "metadata": {
        "id": "QzulhnNkEmNm"
      },
      "execution_count": null,
      "outputs": []
    },
    {
      "cell_type": "code",
      "source": [],
      "metadata": {
        "id": "wF3OWnWOJxv0"
      },
      "execution_count": null,
      "outputs": []
    }
  ]
}